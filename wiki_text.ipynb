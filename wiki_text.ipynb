{
 "cells": [
  {
   "cell_type": "markdown",
   "id": "deluxe-equity",
   "metadata": {},
   "source": [
    "###  python -m  jupyter notebook --no-browser --port=32503"
   ]
  },
  {
   "cell_type": "code",
   "execution_count": 1,
   "id": "8ae2d49d-30b6-460c-b890-687f68f25ade",
   "metadata": {},
   "outputs": [
    {
     "name": "stdout",
     "output_type": "stream",
     "text": [
      "enwiki-latest-pages-articles.xml.bz2\n"
     ]
    }
   ],
   "source": [
    "!ls /raid/AISSEL/Hamed/datasets/text"
   ]
  },
  {
   "cell_type": "code",
   "execution_count": 1,
   "id": "a8a4799a-1425-4d14-83c4-33a63f4db079",
   "metadata": {},
   "outputs": [
    {
     "name": "stdout",
     "output_type": "stream",
     "text": [
      "Python 3.7.6\r\n"
     ]
    }
   ],
   "source": [
    "! python --version"
   ]
  },
  {
   "cell_type": "markdown",
   "id": "d981aa74-578b-4000-9ed1-35e0e45be783",
   "metadata": {},
   "source": [
    "! python -m gensim.scripts.segment_wiki -i -f /raid/AISSEL/Hamed/datasets/text/enwiki-latest-pages-articles.xml.bz2 -o enwiki-latest.json.gz"
   ]
  },
  {
   "cell_type": "code",
   "execution_count": 2,
   "id": "f0308576-3f0a-46ee-88ca-94ae068faa99",
   "metadata": {},
   "outputs": [
    {
     "name": "stdout",
     "output_type": "stream",
     "text": [
      "4.1.0.tar.gz  enwiki-latest.json.gz  gensim-4.1.0  wiki_text.ipynb\r\n"
     ]
    }
   ],
   "source": [
    "! ls"
   ]
  },
  {
   "cell_type": "code",
   "execution_count": 7,
   "id": "287c026f-f62b-42c2-9fc5-daec2709561e",
   "metadata": {},
   "outputs": [
    {
     "name": "stdout",
     "output_type": "stream",
     "text": [
      "9.2G\tenwiki-latest.json.gz\r\n",
      "366M\tlistwikiarticleswithped\r\n",
      "8.0K\twiki_text.ipynb\r\n"
     ]
    }
   ],
   "source": [
    "! du -sh *"
   ]
  },
  {
   "cell_type": "code",
   "execution_count": 10,
   "id": "2c6a50c6-94de-46f2-a1a1-378544c27918",
   "metadata": {},
   "outputs": [],
   "source": [
    "ped_data=[]\n",
    "\n",
    "from gensim import utils\n",
    "import json\n",
    "# iterate over the plain text data we just created\n",
    "with utils.open('enwiki-latest.json.gz', 'rb') as f:\n",
    "    for line in f:\n",
    "        # decode each JSON line into a Python dictionary object\n",
    "        article = json.loads(line)\n",
    "        # each article has a \"title\", a mapping of interlinks and a list of \"section_titles\" and\n",
    "        # \"section_texts\".\n",
    "        \n",
    "        \n",
    "        #print(\"Article title:\",article['title'])\n",
    "        #print(\"Interlinks:\",article['interlinks'])\n",
    "        for section_title, section_text in zip(article['section_titles'], article['section_texts']):\n",
    "            #print(\"Section title:\",section_title)\n",
    "            #print(\"Section text:\",section_text)\n",
    "            if 'Car' in section_title or 'car' in section_title or 'Car' in section_text or 'car' in section_text:\n",
    "                ped_data.append(line)\n",
    "                break\n",
    "\n",
    "len(ped_data)\n",
    "\n",
    "import pickle\n",
    "filename = 'listwikiarticleswithcar.pk'\n",
    "outfile = open(filename,'wb')\n",
    "pickle.dump(ped_data,outfile)\n",
    "outfile.close()"
   ]
  },
  {
   "cell_type": "code",
   "execution_count": 11,
   "id": "understanding-notebook",
   "metadata": {},
   "outputs": [
    {
     "name": "stdout",
     "output_type": "stream",
     "text": [
      "enwiki-latest.json.gz  listwikiarticleswithcar.pk  wiki_text.ipynb\r\n"
     ]
    }
   ],
   "source": [
    "! ls"
   ]
  },
  {
   "cell_type": "code",
   "execution_count": 36,
   "id": "seven-proof",
   "metadata": {},
   "outputs": [],
   "source": [
    "import gensim.downloader"
   ]
  },
  {
   "cell_type": "code",
   "execution_count": 37,
   "id": "positive-thomson",
   "metadata": {},
   "outputs": [
    {
     "name": "stdout",
     "output_type": "stream",
     "text": [
      "['fasttext-wiki-news-subwords-300', 'conceptnet-numberbatch-17-06-300', 'word2vec-ruscorpora-300', 'word2vec-google-news-300', 'glove-wiki-gigaword-50', 'glove-wiki-gigaword-100', 'glove-wiki-gigaword-200', 'glove-wiki-gigaword-300', 'glove-twitter-25', 'glove-twitter-50', 'glove-twitter-100', 'glove-twitter-200', '__testing_word2vec-matrix-synopsis']\n"
     ]
    }
   ],
   "source": [
    "print(list(gensim.downloader.info()['models'].keys()))"
   ]
  },
  {
   "cell_type": "code",
   "execution_count": 40,
   "id": "unique-alcohol",
   "metadata": {},
   "outputs": [],
   "source": [
    "# Download the \"glove-twitter-25\" embeddings\n",
    "glove_vectors = gensim.downloader.load('glove-twitter-25')\n"
   ]
  },
  {
   "cell_type": "code",
   "execution_count": 43,
   "id": "descending-child",
   "metadata": {},
   "outputs": [
    {
     "data": {
      "text/plain": [
       "[('front', 0.9365070462226868),\n",
       " ('on', 0.9070020914077759),\n",
       " ('table', 0.8939011693000793),\n",
       " ('truck', 0.8898833394050598),\n",
       " ('place', 0.8800072073936462),\n",
       " ('foot', 0.876794159412384),\n",
       " ('bus', 0.8759488463401794),\n",
       " ('train', 0.8756078481674194),\n",
       " ('pull', 0.8720093369483948),\n",
       " ('seat', 0.8668329119682312)]"
      ]
     },
     "execution_count": 43,
     "metadata": {},
     "output_type": "execute_result"
    }
   ],
   "source": [
    "glove_vectors.most_similar('car')"
   ]
  },
  {
   "cell_type": "code",
   "execution_count": 46,
   "id": "bridal-depth",
   "metadata": {},
   "outputs": [
    {
     "name": "stdout",
     "output_type": "stream",
     "text": [
      "[================================================--] 96.8% 1609.8/1662.8MB downloaded\n"
     ]
    }
   ],
   "source": [
    "# Download the \"glove-twitter-25\" embeddings\n",
    "glove_vectors = gensim.downloader.load('word2vec-google-news-300')\n"
   ]
  },
  {
   "cell_type": "code",
   "execution_count": 68,
   "id": "miniature-dubai",
   "metadata": {},
   "outputs": [],
   "source": [
    "words = ['bus','motor_vehicle','wheel','automobile','auto','minivan','suv','van','vehicle',\n",
    "         'passenger','internal_combustion_engine','limousine','jeep','cab','motorcar','sedan',\n",
    "         'hatchback','station_wagon','gasoline','diesel_fuel','compartment','bicycle',\n",
    "         'carriage','wagon','railcar','coupe', 'fender','bumper','hot_rod','machine',\n",
    "         'truck','taxi','train','motor','roadster','motorcycle']"
   ]
  },
  {
   "cell_type": "code",
   "execution_count": 69,
   "id": "imposed-resident",
   "metadata": {},
   "outputs": [
    {
     "name": "stdout",
     "output_type": "stream",
     "text": [
      "[('buses', 0.8095911741256714), ('Bus', 0.7499595284461975), ('busses', 0.7404292225837708), ('minibus', 0.6746866703033447), ('Buses', 0.6629471778869629), ('schoolbus', 0.6628195643424988), ('trolley', 0.6229304671287537), ('van', 0.6222773790359497), ('Greyhound_bus', 0.616723895072937), ('taxi', 0.6101228594779968)]\n",
      "\n",
      " ***********************\n",
      "\n",
      "[('Aggravated_unlicensed_operation', 0.655310869216919), ('DWI_careless', 0.6107438802719116), ('uninspected_motor', 0.6100655794143677), ('aggravated_unlicensed', 0.6016019582748413), ('uninspected_motor_vehicle', 0.5992805361747742), ('unregistered_motor', 0.5989435911178589), ('illegal_window_tinting', 0.5882078409194946), ('felony_aggravated_unlicensed', 0.5856038331985474), ('vehicle', 0.5809376835823059), ('revoked_license', 0.5770359039306641)]\n",
      "\n",
      " ***********************\n",
      "\n",
      "[('steering_wheel', 0.6696308851242065), ('wheels', 0.6340507864952087), ('squeaky_senatorial', 0.5711784958839417), ('Airtrax_patented_Omni_Directional', 0.5569150447845459), ('rear_wheel', 0.5563463568687439), ('brake_lever', 0.5274466872215271), ('driver', 0.5273938775062561), ('stub_axle', 0.5211470723152161), ('racer_Max_Papis', 0.520282506942749), ('Lance_Kimmell', 0.5149575471878052)]\n",
      "\n",
      " ***********************\n",
      "\n",
      "[('auto', 0.7856054306030273), ('automobiles', 0.7282323837280273), ('automotive', 0.7002270221710205), ('Automobile', 0.6435841917991638), ('tycoon_Edsel_Ford', 0.6199944615364075), ('car', 0.5838367938995361), ('automative', 0.5705035328865051), ('autos', 0.5471234321594238), ('motorcycle', 0.546714723110199), ('motor', 0.5374970436096191)]\n",
      "\n",
      " ***********************\n",
      "\n",
      "[('automobile', 0.7856053709983826), ('automotive', 0.7313420176506042), ('Auto', 0.6823639273643494), ('automakers', 0.6486615538597107), ('autos', 0.6153388023376465), ('Automobile', 0.6044564843177795), ('carmakers', 0.5896418690681458), ('automaker', 0.5758384466171265), ('automative', 0.5733757615089417), ('autoparts', 0.5647769570350647)]\n",
      "\n",
      " ***********************\n",
      "\n",
      "[('SUV', 0.8528546690940857), ('pickup_truck', 0.7834900617599487), ('station_wagon', 0.7703304290771484), ('Ford_Explorer', 0.7700733542442322), ('Dodge_Caravan', 0.7526789307594299), ('sport_utility', 0.742668092250824), ('Jeep', 0.740393877029419), ('sedan', 0.7355989813804626), ('Nissan_Altima', 0.7338044047355652), ('PT_Cruiser', 0.7291746139526367)]\n",
      "\n",
      " ***********************\n",
      "\n",
      "[('SUV', 0.6835024356842041), ('chevy', 0.6780500411987305), ('camry', 0.6711059212684631), ('volvo', 0.6321918964385986), ('camaro', 0.6245789527893066), ('prius', 0.6212327480316162), ('vechile', 0.6199208498001099), ('Chevy_Trailblazer', 0.6192795634269714), ('ford_explorer', 0.6192496418952942), ('mercedes', 0.6147469282150269)]\n",
      "\n",
      " ***********************\n",
      "\n",
      "[('truck', 0.7252801656723022), ('vans', 0.7198808193206787), ('pickup_truck', 0.7099999189376831), ('minivan', 0.7092582583427429), ('station_wagon', 0.6887269020080566), ('vehicle', 0.6525707840919495), ('Dodge_pickup', 0.6458010077476501), ('minibus', 0.6448887586593628), ('Jeep_Cherokee', 0.643344521522522), ('Dodge_pickup_truck', 0.6399855613708496)]\n",
      "\n",
      " ***********************\n",
      "\n",
      "[('car', 0.7821096181869507), ('SUV', 0.7577638626098633), ('vehicles', 0.7492177486419678), ('minivan', 0.72130286693573), ('Jeep', 0.704788327217102), ('pickup_truck', 0.7040186524391174), ('truck', 0.7027071118354797), ('Ford_Explorer', 0.6987137198448181), ('vehcile', 0.6957592368125916), ('Chevy_Trailblazer', 0.6605548858642578)]\n",
      "\n",
      " ***********************\n",
      "\n",
      "[('Passenger', 0.7583064436912537), ('passengers', 0.7513134479522705), ('passanger', 0.6336355805397034), ('pasenger', 0.5984597206115723), ('aisle_chides', 0.5959687232971191), ('car_Jeweline_Ledbetter', 0.5886272192001343), ('Alan_Tirpak', 0.5856462121009827), ('seat_Lamonte_Yarbrough', 0.5476900339126587), ('pasengers', 0.5357354879379272), ('passsenger', 0.5339770913124084)]\n",
      "\n",
      " ***********************\n",
      "\n",
      "[('internal_combustion', 0.74559485912323), ('combustion_engine', 0.745573878288269), ('internal_combustion_engines', 0.7454825043678284), ('conventional_internal_combustion', 0.635312020778656), ('combustion_engines', 0.6165174245834351), ('Internal_combustion_engines', 0.6099942326545715), ('electric_motor', 0.5955950617790222), ('diesel_engine', 0.5918071269989014), ('hybrid_drivetrains', 0.5876318216323853), ('hybrid_powertrains', 0.5757980942726135)]\n",
      "\n",
      " ***********************\n",
      "\n",
      "[('limo', 0.823372483253479), ('limousines', 0.6985549330711365), ('stretch_limo', 0.6536465883255005), ('limos', 0.6517890095710754), ('chauffeured', 0.6321410536766052), ('chauffeur_driven', 0.6269999742507935), ('chauffeur', 0.618360698223114), ('limosine', 0.6164053678512573), ('chauffeured_limousine', 0.5999396443367004), ('Mercedes_limousine', 0.5967114567756653)]\n",
      "\n",
      " ***********************\n",
      "\n",
      "[('jeeps', 0.7001566886901855), ('Maruti_van', 0.6444463133811951), ('Bolero_jeep', 0.6378636956214905), ('van', 0.6323801279067993), ('Maruti_Gypsy', 0.6289054751396179), ('Tata_Sumo', 0.6276600956916809), ('minibus', 0.6241374015808105), ('armored_jeep', 0.6159908175468445), ('Toyota_Landcruiser', 0.6126053333282471), ('Scorpio_jeep', 0.6075722575187683)]\n",
      "\n",
      " ***********************\n",
      "\n",
      "[('taxi', 0.751055896282196), ('cabs', 0.7363651990890503), ('taxi_cab', 0.7358230352401733), ('taxicab', 0.6945253610610962), ('Cab', 0.6304466128349304), ('tow_truck', 0.6238313913345337), ('victim_Masaaki_Takahashi', 0.6206435561180115), ('truck', 0.6169102787971497), ('taxis', 0.6109189987182617), ('limo', 0.601668655872345)]\n",
      "\n",
      " ***********************\n",
      "\n",
      "[('motorcars', 0.569362223148346), ('Nissan_Sunny', 0.5575234293937683), ('Holden_Kingswood', 0.5398189425468445), ('Jaguar_XK###', 0.5340638756752014), ('Toyota_Hiace', 0.5274965763092041), ('###cc_motorbike', 0.5268175005912781), ('Hyundai_Coupe', 0.5215830206871033), ('car', 0.5187643766403198), ('volvo', 0.5182541608810425), ('horseless_carriage', 0.5140000581741333)]\n",
      "\n",
      " ***********************\n",
      "\n",
      "[('hatchback', 0.8326429724693298), ('coupe', 0.7919893264770508), ('sedans', 0.7689377665519714), ('luxury_sedan', 0.7551674246788025), ('SUV', 0.7538198828697205), ('compact_sedan', 0.7389910221099854), ('minivan', 0.7355990409851074), ('Jetta', 0.7350677847862244), ('Toyota_Corolla', 0.7232118844985962), ('Honda_Accord', 0.718177855014801)]\n",
      "\n",
      " ***********************\n",
      "\n",
      "[('sedan', 0.8326430916786194), ('coupe', 0.7907174229621887), ('hatchbacks', 0.7811213731765747), ('door_hatchback', 0.7626745104789734), ('supermini', 0.7519406676292419), ('Passat', 0.7516124844551086), ('Mazda3', 0.7409681677818298), ('compact_hatchback', 0.7373128533363342), ('compact_sedan', 0.7323938608169556), ('mini_MPV', 0.7321457862854004)]\n",
      "\n",
      " ***********************\n",
      "\n",
      "[('minivan', 0.7703304290771484), ('pickup_truck', 0.7165582776069641), ('sedan', 0.7157067060470581), ('stationwagon', 0.6971026062965393), ('Chevy_Suburban', 0.693430483341217), ('SUV', 0.6898807287216187), ('Ford_Tempo', 0.6896446943283081), ('van', 0.6887269020080566), ('Ford_Festiva', 0.6847720742225647), ('Buick_Roadmaster', 0.6832278370857239)]\n",
      "\n",
      " ***********************\n",
      "\n",
      "[('Gasoline', 0.7419313192367554), ('fuel', 0.7066084146499634), ('diesel_fuel', 0.7065191268920898), ('gallon', 0.688508927822113), ('petrol', 0.6809855699539185), ('unleaded_gasoline', 0.6803839206695557), ('gas', 0.662575364112854), ('diesel', 0.6562596559524536), ('crude_oil', 0.6523392200469971), ('gasolene', 0.639955997467041)]\n",
      "\n",
      " ***********************\n",
      "\n",
      "[('diesel', 0.7658032774925232), ('gasoline', 0.7065191268920898), ('fuel', 0.685927152633667), ('biodiesel', 0.624413788318634), ('B##_biodiesel', 0.6025111675262451), ('Ethanol_blended', 0.5848874449729919), ('low_sulfur_diesel', 0.5844356417655945), ('unleaded_gasoline', 0.5732194781303406), ('petrodiesel', 0.5654174089431763), ('biodiesel_fuels', 0.5619475245475769)]\n",
      "\n",
      " ***********************\n",
      "\n",
      "[('compartments', 0.7808789610862732), ('luggage_compartment', 0.5881534218788147), ('glovebox', 0.5753041505813599), ('storage_compartments', 0.5644828677177429), ('lazarette', 0.5534089207649231), ('stowage_compartment', 0.5461023449897766), ('station_Pirs_docking', 0.5367752909660339), ('luggage_compartments', 0.5311304330825806), ('stowage', 0.5301264524459839), ('zippered_pocket', 0.5295852422714233)]\n",
      "\n",
      " ***********************\n",
      "\n",
      "[('bike', 0.8521308302879333), ('scooter', 0.7506709694862366), ('bicycles', 0.736355185508728), ('motorcycle', 0.6965134739875793), ('bicycling', 0.6963406801223755), ('bikes', 0.6933419704437256), ('mountain_bike', 0.6500993967056274), ('skateboard', 0.6471456289291382), ('biking', 0.6421988606452942), ('moped', 0.6409550309181213)]\n",
      "\n",
      " ***********************\n",
      "\n"
     ]
    },
    {
     "name": "stdout",
     "output_type": "stream",
     "text": [
      "[('carriages', 0.6217290759086609), ('Spragueville_whose', 0.6105248332023621), ('landau', 0.5460561513900757), ('Toyota_Solara_convertible', 0.5122283697128296), ('Carriage', 0.5008593797683716), ('drawn_carriage', 0.49393516778945923), ('perambulator', 0.4883159399032593), ('trolley', 0.4805462658405304), ('tram', 0.4768717288970947), ('horse_drawn_carriages', 0.4728492796421051)]\n",
      "\n",
      " ***********************\n",
      "\n",
      "[('wagons', 0.692339301109314), ('hay_wagon', 0.6079433560371399), ('hay_wagons', 0.5995307564735413), ('haywagon', 0.5886642336845398), ('waggon', 0.5873774886131287), ('Conestoga_wagon', 0.5796639323234558), ('hayrack', 0.5782637596130371), ('station_wagon', 0.5759007930755615), ('buckboard', 0.5725744962692261), ('gooseneck_trailer', 0.5674906373023987)]\n",
      "\n",
      " ***********************\n",
      "\n",
      "[('railcars', 0.7216365337371826), ('Railcar', 0.6109267473220825), ('manufacturer_Greenbrier_Cos.', 0.6058011651039124), ('locomotive', 0.5977204442024231), ('railroad', 0.5618444085121155), ('flatcars', 0.5450021624565125), ('covered_hopper_railcars', 0.5368520021438599), ('transload', 0.5350992679595947), ('flatcar', 0.5332891941070557), ('boxcar', 0.5308037996292114)]\n",
      "\n",
      " ***********************\n",
      "\n",
      "[('roadster', 0.8324611783027649), ('coupé', 0.827995240688324), ('Coupe', 0.8084906339645386), ('sedan', 0.7919893860816956), ('coupes', 0.7913198471069336), ('hatchback', 0.790717363357544), ('Cabriolet', 0.7658925652503967), ('Coupé', 0.7634008526802063), ('cabriolet', 0.750391960144043), ('fastback', 0.7461282014846802)]\n",
      "\n",
      " ***********************\n",
      "\n",
      "[('front_fender', 0.7656962871551514), ('fenders', 0.7627732753753662), ('rear_fender', 0.7407028079032898), ('rear_bumper', 0.7183850407600403), ('brake_rotor', 0.6528800129890442), ('trunk_lid', 0.6392117142677307), ('rear_bumpers', 0.6389853358268738), ('framerails', 0.6265441179275513), ('rollbar', 0.6166292428970337), ('quarterpanel', 0.6148310899734497)]\n",
      "\n",
      " ***********************\n",
      "\n",
      "[('Bumper', 0.6110256910324097), ('bumber', 0.5997053384780884), ('bumper_caravans', 0.5786756873130798), ('bumpers', 0.5592495203018188), ('grille_headlights', 0.5032632350921631), ('headlamps_grille', 0.4954341650009155), ('BUMPER', 0.4906058609485626), ('quarterpanel', 0.48546290397644043), ('grille_headlamps', 0.47959378361701965), ('Bumper_IRA', 0.47044476866722107)]\n",
      "\n",
      " ***********************\n",
      "\n",
      "[('hot_rods', 0.7531988024711609), ('hotrod', 0.7398099303245544), ('Corvette', 0.6876772046089172), ('Mopars', 0.6766815781593323), ('hotrods', 0.660352885723114), ('musclecar', 0.6583853960037231), ('Camaro', 0.6578832268714905), ('Shelby_Mustang', 0.6532462239265442), ('musclecars', 0.6449688673019409), ('hot_rodder', 0.6433836221694946)]\n",
      "\n",
      " ***********************\n",
      "\n",
      "[('machines', 0.7677488327026367), ('wringer_washing', 0.5941920280456543), ('machinery', 0.5260838866233826), ('Automated_teller', 0.5225658416748047), ('roundish_pinhole_shape', 0.5103495121002197), ('Machine', 0.5063986778259277), ('extrude_liquefied_cornmeal', 0.5044564604759216), ('ma_chine', 0.4988497495651245), ('CNC_lathe', 0.4958512485027313), ('Computer_Numerically_Controlled', 0.4957743287086487)]\n",
      "\n",
      " ***********************\n",
      "\n",
      "[('pickup_truck', 0.781660258769989), ('trucks', 0.7529183626174927), ('dump_truck', 0.744109570980072), ('tractor_trailer', 0.7255719304084778), ('van', 0.7252801060676575), ('vehicle', 0.7027071118354797), ('tanker_truck', 0.6915155053138733), ('tractor', 0.6907906532287598), ('Peterbilt_truck', 0.6825098991394043), ('car', 0.6735790371894836)]\n",
      "\n",
      " ***********************\n",
      "\n",
      "[('taxis', 0.7733617424964905), ('cab', 0.7510558366775513), ('taxi_cab', 0.740310549736023), ('taxicab', 0.7023347616195679), ('cabs', 0.6708043813705444), ('Taxi', 0.6545107960700989), ('taxi_drivers', 0.6390527486801147), ('taxi_driver', 0.6308900713920593), ('metered_taxi', 0.6266016364097595), ('Taxis', 0.6228652000427246)]\n",
      "\n",
      " ***********************\n",
      "\n",
      "[('trains', 0.8081232309341431), ('Train', 0.6729269623756409), ('commuter_train', 0.6523402333259583), ('locomotive', 0.6395583152770996), ('freight_train', 0.6207071542739868), ('railway', 0.6071822047233582), ('bus', 0.6067740321159363), ('Trains', 0.5963783264160156), ('rail', 0.5885170698165894), ('commuter_trains', 0.5821391344070435)]\n",
      "\n",
      " ***********************\n",
      "\n",
      "[('motors', 0.6293247938156128), ('Remy_HVH_electric', 0.5993698239326477), ('##kw_electric', 0.5714848041534424), ('Minn_Kota_®', 0.5517177581787109), ('ac_induction', 0.545742392539978), ('automobile', 0.5374970436096191), ('motorbikes_scooters', 0.5280378460884094), ('subsidiary_Shenzhen_YPC', 0.5121363401412964), ('phonic_tics', 0.5121303796768188), ('Remy_HVH', 0.5062531232833862)]\n",
      "\n",
      " ***********************\n",
      "\n",
      "[('coupe', 0.8324611186981201), ('Roadster', 0.8124526143074036), ('supercar', 0.7651874423027039), ('ragtop', 0.7415428161621094), ('coupes', 0.7365366816520691), ('cabriolet', 0.7353312373161316), ('mid_engined', 0.730478823184967), ('Coupe', 0.7215218544006348), ('roadsters', 0.7190110087394714), ('Cabriolet', 0.7181574106216431)]\n",
      "\n",
      " ***********************\n",
      "\n",
      "[('motorcyle', 0.8139005899429321), ('motorbike', 0.7548472881317139), ('motorcycles', 0.7510919570922852), ('scooter', 0.7237971425056458), ('bike', 0.7016158699989319), ('bicycle', 0.6965134739875793), ('Harley_Davidson_motorcycle', 0.6911141276359558), ('moped', 0.6863930821418762), ('motocycle', 0.683756411075592), ('motorcylce', 0.6817463636398315)]\n",
      "\n",
      " ***********************\n",
      "\n"
     ]
    }
   ],
   "source": [
    "for w in words:\n",
    "    print(glove_vectors.most_similar(w))\n",
    "    print('\\n ***********************\\n')"
   ]
  },
  {
   "cell_type": "code",
   "execution_count": 70,
   "id": "lesser-given",
   "metadata": {},
   "outputs": [
    {
     "name": "stdout",
     "output_type": "stream",
     "text": [
      "enwiki-latest.json.gz  listwikiarticleswithcar.pk  wiki_text.ipynb\r\n"
     ]
    }
   ],
   "source": [
    "! ls"
   ]
  },
  {
   "cell_type": "code",
   "execution_count": null,
   "id": "another-network",
   "metadata": {},
   "outputs": [],
   "source": []
  }
 ],
 "metadata": {
  "kernelspec": {
   "display_name": "Python 3",
   "language": "python",
   "name": "python3"
  },
  "language_info": {
   "codemirror_mode": {
    "name": "ipython",
    "version": 3
   },
   "file_extension": ".py",
   "mimetype": "text/x-python",
   "name": "python",
   "nbconvert_exporter": "python",
   "pygments_lexer": "ipython3",
   "version": "3.7.6"
  }
 },
 "nbformat": 4,
 "nbformat_minor": 5
}
