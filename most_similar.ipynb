{
 "cells": [
  {
   "cell_type": "code",
   "execution_count": 1,
   "id": "armed-jaguar",
   "metadata": {},
   "outputs": [],
   "source": [
    "import gensim.downloader"
   ]
  },
  {
   "cell_type": "code",
   "execution_count": 2,
   "id": "second-klein",
   "metadata": {},
   "outputs": [
    {
     "name": "stdout",
     "output_type": "stream",
     "text": [
      "['fasttext-wiki-news-subwords-300', 'conceptnet-numberbatch-17-06-300', 'word2vec-ruscorpora-300', 'word2vec-google-news-300', 'glove-wiki-gigaword-50', 'glove-wiki-gigaword-100', 'glove-wiki-gigaword-200', 'glove-wiki-gigaword-300', 'glove-twitter-25', 'glove-twitter-50', 'glove-twitter-100', 'glove-twitter-200', '__testing_word2vec-matrix-synopsis']\n"
     ]
    }
   ],
   "source": [
    "print(list(gensim.downloader.info()['models'].keys()))"
   ]
  },
  {
   "cell_type": "code",
   "execution_count": 10,
   "id": "cleared-encyclopedia",
   "metadata": {
    "scrolled": true
   },
   "outputs": [
    {
     "name": "stdout",
     "output_type": "stream",
     "text": [
      "[==================================----------------] 68.7% 520.9/758.5MB downloaded"
     ]
    },
    {
     "name": "stderr",
     "output_type": "stream",
     "text": [
      "IOPub message rate exceeded.\n",
      "The notebook server will temporarily stop sending output\n",
      "to the client in order to avoid crashing it.\n",
      "To change this limit, set the config variable\n",
      "`--NotebookApp.iopub_msg_rate_limit`.\n",
      "\n",
      "Current values:\n",
      "NotebookApp.iopub_msg_rate_limit=1000.0 (msgs/sec)\n",
      "NotebookApp.rate_limit_window=3.0 (secs)\n",
      "\n"
     ]
    },
    {
     "name": "stdout",
     "output_type": "stream",
     "text": [
      "[====================================--------------] 73.9% 560.7/758.5MB downloaded"
     ]
    },
    {
     "name": "stderr",
     "output_type": "stream",
     "text": [
      "IOPub message rate exceeded.\n",
      "The notebook server will temporarily stop sending output\n",
      "to the client in order to avoid crashing it.\n",
      "To change this limit, set the config variable\n",
      "`--NotebookApp.iopub_msg_rate_limit`.\n",
      "\n",
      "Current values:\n",
      "NotebookApp.iopub_msg_rate_limit=1000.0 (msgs/sec)\n",
      "NotebookApp.rate_limit_window=3.0 (secs)\n",
      "\n"
     ]
    },
    {
     "name": "stdout",
     "output_type": "stream",
     "text": [
      "[========================================----------] 81.6% 619.3/758.5MB downloaded"
     ]
    },
    {
     "name": "stderr",
     "output_type": "stream",
     "text": [
      "IOPub message rate exceeded.\n",
      "The notebook server will temporarily stop sending output\n",
      "to the client in order to avoid crashing it.\n",
      "To change this limit, set the config variable\n",
      "`--NotebookApp.iopub_msg_rate_limit`.\n",
      "\n",
      "Current values:\n",
      "NotebookApp.iopub_msg_rate_limit=1000.0 (msgs/sec)\n",
      "NotebookApp.rate_limit_window=3.0 (secs)\n",
      "\n"
     ]
    },
    {
     "name": "stdout",
     "output_type": "stream",
     "text": [
      "[============================================------] 89.3% 677.1/758.5MB downloaded"
     ]
    },
    {
     "name": "stderr",
     "output_type": "stream",
     "text": [
      "IOPub message rate exceeded.\n",
      "The notebook server will temporarily stop sending output\n",
      "to the client in order to avoid crashing it.\n",
      "To change this limit, set the config variable\n",
      "`--NotebookApp.iopub_msg_rate_limit`.\n",
      "\n",
      "Current values:\n",
      "NotebookApp.iopub_msg_rate_limit=1000.0 (msgs/sec)\n",
      "NotebookApp.rate_limit_window=3.0 (secs)\n",
      "\n"
     ]
    },
    {
     "name": "stdout",
     "output_type": "stream",
     "text": [
      "[================================================--] 96.3% 730.8/758.5MB downloaded"
     ]
    },
    {
     "name": "stderr",
     "output_type": "stream",
     "text": [
      "IOPub message rate exceeded.\n",
      "The notebook server will temporarily stop sending output\n",
      "to the client in order to avoid crashing it.\n",
      "To change this limit, set the config variable\n",
      "`--NotebookApp.iopub_msg_rate_limit`.\n",
      "\n",
      "Current values:\n",
      "NotebookApp.iopub_msg_rate_limit=1000.0 (msgs/sec)\n",
      "NotebookApp.rate_limit_window=3.0 (secs)\n",
      "\n"
     ]
    },
    {
     "name": "stdout",
     "output_type": "stream",
     "text": [
      "[==================================================] 100.0% 758.5/758.5MB downloaded\n"
     ]
    }
   ],
   "source": [
    "tw_vectors = gensim.downloader.load('glove-twitter-200')"
   ]
  },
  {
   "cell_type": "code",
   "execution_count": 4,
   "id": "secondary-return",
   "metadata": {
    "scrolled": true
   },
   "outputs": [
    {
     "name": "stdout",
     "output_type": "stream",
     "text": [
      "[=====================================-------------] 74.5% 280.2/376.1MB downloaded"
     ]
    },
    {
     "name": "stderr",
     "output_type": "stream",
     "text": [
      "IOPub message rate exceeded.\n",
      "The notebook server will temporarily stop sending output\n",
      "to the client in order to avoid crashing it.\n",
      "To change this limit, set the config variable\n",
      "`--NotebookApp.iopub_msg_rate_limit`.\n",
      "\n",
      "Current values:\n",
      "NotebookApp.iopub_msg_rate_limit=1000.0 (msgs/sec)\n",
      "NotebookApp.rate_limit_window=3.0 (secs)\n",
      "\n"
     ]
    },
    {
     "name": "stdout",
     "output_type": "stream",
     "text": [
      "[=========================================---------] 82.5% 310.1/376.1MB downloaded"
     ]
    },
    {
     "name": "stderr",
     "output_type": "stream",
     "text": [
      "IOPub message rate exceeded.\n",
      "The notebook server will temporarily stop sending output\n",
      "to the client in order to avoid crashing it.\n",
      "To change this limit, set the config variable\n",
      "`--NotebookApp.iopub_msg_rate_limit`.\n",
      "\n",
      "Current values:\n",
      "NotebookApp.iopub_msg_rate_limit=1000.0 (msgs/sec)\n",
      "NotebookApp.rate_limit_window=3.0 (secs)\n",
      "\n"
     ]
    },
    {
     "name": "stdout",
     "output_type": "stream",
     "text": [
      "[=============================================-----] 90.5% 340.4/376.1MB downloaded"
     ]
    },
    {
     "name": "stderr",
     "output_type": "stream",
     "text": [
      "IOPub message rate exceeded.\n",
      "The notebook server will temporarily stop sending output\n",
      "to the client in order to avoid crashing it.\n",
      "To change this limit, set the config variable\n",
      "`--NotebookApp.iopub_msg_rate_limit`.\n",
      "\n",
      "Current values:\n",
      "NotebookApp.iopub_msg_rate_limit=1000.0 (msgs/sec)\n",
      "NotebookApp.rate_limit_window=3.0 (secs)\n",
      "\n"
     ]
    },
    {
     "name": "stdout",
     "output_type": "stream",
     "text": [
      "[=================================================-] 98.5% 370.6/376.1MB downloaded"
     ]
    },
    {
     "name": "stderr",
     "output_type": "stream",
     "text": [
      "IOPub message rate exceeded.\n",
      "The notebook server will temporarily stop sending output\n",
      "to the client in order to avoid crashing it.\n",
      "To change this limit, set the config variable\n",
      "`--NotebookApp.iopub_msg_rate_limit`.\n",
      "\n",
      "Current values:\n",
      "NotebookApp.iopub_msg_rate_limit=1000.0 (msgs/sec)\n",
      "NotebookApp.rate_limit_window=3.0 (secs)\n",
      "\n"
     ]
    }
   ],
   "source": [
    "wiki_glove_vectors = gensim.downloader.load('glove-wiki-gigaword-300')"
   ]
  },
  {
   "cell_type": "code",
   "execution_count": 5,
   "id": "favorite-tracy",
   "metadata": {},
   "outputs": [],
   "source": [
    "google_vectors = gensim.downloader.load('word2vec-google-news-300')"
   ]
  },
  {
   "cell_type": "code",
   "execution_count": 6,
   "id": "living-promotion",
   "metadata": {},
   "outputs": [
    {
     "name": "stdout",
     "output_type": "stream",
     "text": [
      "[=-------------------------------------------------] 3.3% 31.3/958.4MB downloaded"
     ]
    },
    {
     "name": "stderr",
     "output_type": "stream",
     "text": [
      "IOPub message rate exceeded.\n",
      "The notebook server will temporarily stop sending output\n",
      "to the client in order to avoid crashing it.\n",
      "To change this limit, set the config variable\n",
      "`--NotebookApp.iopub_msg_rate_limit`.\n",
      "\n",
      "Current values:\n",
      "NotebookApp.iopub_msg_rate_limit=1000.0 (msgs/sec)\n",
      "NotebookApp.rate_limit_window=3.0 (secs)\n",
      "\n"
     ]
    },
    {
     "name": "stdout",
     "output_type": "stream",
     "text": [
      "[===-----------------------------------------------] 6.3% 60.2/958.4MB downloaded"
     ]
    },
    {
     "name": "stderr",
     "output_type": "stream",
     "text": [
      "IOPub message rate exceeded.\n",
      "The notebook server will temporarily stop sending output\n",
      "to the client in order to avoid crashing it.\n",
      "To change this limit, set the config variable\n",
      "`--NotebookApp.iopub_msg_rate_limit`.\n",
      "\n",
      "Current values:\n",
      "NotebookApp.iopub_msg_rate_limit=1000.0 (msgs/sec)\n",
      "NotebookApp.rate_limit_window=3.0 (secs)\n",
      "\n"
     ]
    },
    {
     "name": "stdout",
     "output_type": "stream",
     "text": [
      "[====----------------------------------------------] 9.3% 89.3/958.4MB downloaded"
     ]
    },
    {
     "name": "stderr",
     "output_type": "stream",
     "text": [
      "IOPub message rate exceeded.\n",
      "The notebook server will temporarily stop sending output\n",
      "to the client in order to avoid crashing it.\n",
      "To change this limit, set the config variable\n",
      "`--NotebookApp.iopub_msg_rate_limit`.\n",
      "\n",
      "Current values:\n",
      "NotebookApp.iopub_msg_rate_limit=1000.0 (msgs/sec)\n",
      "NotebookApp.rate_limit_window=3.0 (secs)\n",
      "\n"
     ]
    },
    {
     "name": "stdout",
     "output_type": "stream",
     "text": [
      "[======--------------------------------------------] 12.4% 118.7/958.4MB downloaded"
     ]
    },
    {
     "name": "stderr",
     "output_type": "stream",
     "text": [
      "IOPub message rate exceeded.\n",
      "The notebook server will temporarily stop sending output\n",
      "to the client in order to avoid crashing it.\n",
      "To change this limit, set the config variable\n",
      "`--NotebookApp.iopub_msg_rate_limit`.\n",
      "\n",
      "Current values:\n",
      "NotebookApp.iopub_msg_rate_limit=1000.0 (msgs/sec)\n",
      "NotebookApp.rate_limit_window=3.0 (secs)\n",
      "\n"
     ]
    },
    {
     "name": "stdout",
     "output_type": "stream",
     "text": [
      "[=======-------------------------------------------] 15.5% 148.3/958.4MB downloaded"
     ]
    },
    {
     "name": "stderr",
     "output_type": "stream",
     "text": [
      "IOPub message rate exceeded.\n",
      "The notebook server will temporarily stop sending output\n",
      "to the client in order to avoid crashing it.\n",
      "To change this limit, set the config variable\n",
      "`--NotebookApp.iopub_msg_rate_limit`.\n",
      "\n",
      "Current values:\n",
      "NotebookApp.iopub_msg_rate_limit=1000.0 (msgs/sec)\n",
      "NotebookApp.rate_limit_window=3.0 (secs)\n",
      "\n"
     ]
    },
    {
     "name": "stdout",
     "output_type": "stream",
     "text": [
      "[=========-----------------------------------------] 18.5% 177.3/958.4MB downloaded"
     ]
    },
    {
     "name": "stderr",
     "output_type": "stream",
     "text": [
      "IOPub message rate exceeded.\n",
      "The notebook server will temporarily stop sending output\n",
      "to the client in order to avoid crashing it.\n",
      "To change this limit, set the config variable\n",
      "`--NotebookApp.iopub_msg_rate_limit`.\n",
      "\n",
      "Current values:\n",
      "NotebookApp.iopub_msg_rate_limit=1000.0 (msgs/sec)\n",
      "NotebookApp.rate_limit_window=3.0 (secs)\n",
      "\n"
     ]
    },
    {
     "name": "stdout",
     "output_type": "stream",
     "text": [
      "[==========----------------------------------------] 21.5% 206.4/958.4MB downloaded"
     ]
    },
    {
     "name": "stderr",
     "output_type": "stream",
     "text": [
      "IOPub message rate exceeded.\n",
      "The notebook server will temporarily stop sending output\n",
      "to the client in order to avoid crashing it.\n",
      "To change this limit, set the config variable\n",
      "`--NotebookApp.iopub_msg_rate_limit`.\n",
      "\n",
      "Current values:\n",
      "NotebookApp.iopub_msg_rate_limit=1000.0 (msgs/sec)\n",
      "NotebookApp.rate_limit_window=3.0 (secs)\n",
      "\n"
     ]
    },
    {
     "name": "stdout",
     "output_type": "stream",
     "text": [
      "[============--------------------------------------] 24.6% 235.7/958.4MB downloaded"
     ]
    },
    {
     "name": "stderr",
     "output_type": "stream",
     "text": [
      "IOPub message rate exceeded.\n",
      "The notebook server will temporarily stop sending output\n",
      "to the client in order to avoid crashing it.\n",
      "To change this limit, set the config variable\n",
      "`--NotebookApp.iopub_msg_rate_limit`.\n",
      "\n",
      "Current values:\n",
      "NotebookApp.iopub_msg_rate_limit=1000.0 (msgs/sec)\n",
      "NotebookApp.rate_limit_window=3.0 (secs)\n",
      "\n"
     ]
    },
    {
     "name": "stdout",
     "output_type": "stream",
     "text": [
      "[=============-------------------------------------] 27.6% 264.9/958.4MB downloaded"
     ]
    },
    {
     "name": "stderr",
     "output_type": "stream",
     "text": [
      "IOPub message rate exceeded.\n",
      "The notebook server will temporarily stop sending output\n",
      "to the client in order to avoid crashing it.\n",
      "To change this limit, set the config variable\n",
      "`--NotebookApp.iopub_msg_rate_limit`.\n",
      "\n",
      "Current values:\n",
      "NotebookApp.iopub_msg_rate_limit=1000.0 (msgs/sec)\n",
      "NotebookApp.rate_limit_window=3.0 (secs)\n",
      "\n"
     ]
    },
    {
     "name": "stdout",
     "output_type": "stream",
     "text": [
      "[================----------------------------------] 32.1% 308.0/958.4MB downloaded"
     ]
    },
    {
     "name": "stderr",
     "output_type": "stream",
     "text": [
      "IOPub message rate exceeded.\n",
      "The notebook server will temporarily stop sending output\n",
      "to the client in order to avoid crashing it.\n",
      "To change this limit, set the config variable\n",
      "`--NotebookApp.iopub_msg_rate_limit`.\n",
      "\n",
      "Current values:\n",
      "NotebookApp.iopub_msg_rate_limit=1000.0 (msgs/sec)\n",
      "NotebookApp.rate_limit_window=3.0 (secs)\n",
      "\n"
     ]
    },
    {
     "name": "stdout",
     "output_type": "stream",
     "text": [
      "[==================--------------------------------] 37.8% 361.9/958.4MB downloaded"
     ]
    },
    {
     "name": "stderr",
     "output_type": "stream",
     "text": [
      "IOPub message rate exceeded.\n",
      "The notebook server will temporarily stop sending output\n",
      "to the client in order to avoid crashing it.\n",
      "To change this limit, set the config variable\n",
      "`--NotebookApp.iopub_msg_rate_limit`.\n",
      "\n",
      "Current values:\n",
      "NotebookApp.iopub_msg_rate_limit=1000.0 (msgs/sec)\n",
      "NotebookApp.rate_limit_window=3.0 (secs)\n",
      "\n"
     ]
    },
    {
     "name": "stdout",
     "output_type": "stream",
     "text": [
      "[====================------------------------------] 40.8% 391.0/958.4MB downloaded"
     ]
    },
    {
     "name": "stderr",
     "output_type": "stream",
     "text": [
      "IOPub message rate exceeded.\n",
      "The notebook server will temporarily stop sending output\n",
      "to the client in order to avoid crashing it.\n",
      "To change this limit, set the config variable\n",
      "`--NotebookApp.iopub_msg_rate_limit`.\n",
      "\n",
      "Current values:\n",
      "NotebookApp.iopub_msg_rate_limit=1000.0 (msgs/sec)\n",
      "NotebookApp.rate_limit_window=3.0 (secs)\n",
      "\n"
     ]
    },
    {
     "name": "stdout",
     "output_type": "stream",
     "text": [
      "[=======================---------------------------] 47.2% 451.9/958.4MB downloaded"
     ]
    },
    {
     "name": "stderr",
     "output_type": "stream",
     "text": [
      "IOPub message rate exceeded.\n",
      "The notebook server will temporarily stop sending output\n",
      "to the client in order to avoid crashing it.\n",
      "To change this limit, set the config variable\n",
      "`--NotebookApp.iopub_msg_rate_limit`.\n",
      "\n",
      "Current values:\n",
      "NotebookApp.iopub_msg_rate_limit=1000.0 (msgs/sec)\n",
      "NotebookApp.rate_limit_window=3.0 (secs)\n",
      "\n"
     ]
    },
    {
     "name": "stdout",
     "output_type": "stream",
     "text": [
      "[==========================------------------------] 53.6% 514.0/958.4MB downloaded"
     ]
    },
    {
     "name": "stderr",
     "output_type": "stream",
     "text": [
      "IOPub message rate exceeded.\n",
      "The notebook server will temporarily stop sending output\n",
      "to the client in order to avoid crashing it.\n",
      "To change this limit, set the config variable\n",
      "`--NotebookApp.iopub_msg_rate_limit`.\n",
      "\n",
      "Current values:\n",
      "NotebookApp.iopub_msg_rate_limit=1000.0 (msgs/sec)\n",
      "NotebookApp.rate_limit_window=3.0 (secs)\n",
      "\n"
     ]
    },
    {
     "name": "stdout",
     "output_type": "stream",
     "text": [
      "[========================================----------] 81.3% 778.9/958.4MB downloaded"
     ]
    },
    {
     "name": "stderr",
     "output_type": "stream",
     "text": [
      "IOPub message rate exceeded.\n",
      "The notebook server will temporarily stop sending output\n",
      "to the client in order to avoid crashing it.\n",
      "To change this limit, set the config variable\n",
      "`--NotebookApp.iopub_msg_rate_limit`.\n",
      "\n",
      "Current values:\n",
      "NotebookApp.iopub_msg_rate_limit=1000.0 (msgs/sec)\n",
      "NotebookApp.rate_limit_window=3.0 (secs)\n",
      "\n"
     ]
    },
    {
     "name": "stdout",
     "output_type": "stream",
     "text": [
      "[==========================================--------] 85.5% 819.7/958.4MB downloaded"
     ]
    },
    {
     "name": "stderr",
     "output_type": "stream",
     "text": [
      "IOPub message rate exceeded.\n",
      "The notebook server will temporarily stop sending output\n",
      "to the client in order to avoid crashing it.\n",
      "To change this limit, set the config variable\n",
      "`--NotebookApp.iopub_msg_rate_limit`.\n",
      "\n",
      "Current values:\n",
      "NotebookApp.iopub_msg_rate_limit=1000.0 (msgs/sec)\n",
      "NotebookApp.rate_limit_window=3.0 (secs)\n",
      "\n"
     ]
    },
    {
     "name": "stdout",
     "output_type": "stream",
     "text": [
      "[==============================================----] 92.1% 882.8/958.4MB downloaded"
     ]
    },
    {
     "name": "stderr",
     "output_type": "stream",
     "text": [
      "IOPub message rate exceeded.\n",
      "The notebook server will temporarily stop sending output\n",
      "to the client in order to avoid crashing it.\n",
      "To change this limit, set the config variable\n",
      "`--NotebookApp.iopub_msg_rate_limit`.\n",
      "\n",
      "Current values:\n",
      "NotebookApp.iopub_msg_rate_limit=1000.0 (msgs/sec)\n",
      "NotebookApp.rate_limit_window=3.0 (secs)\n",
      "\n"
     ]
    },
    {
     "name": "stdout",
     "output_type": "stream",
     "text": [
      "[================================================--] 97.8% 937.2/958.4MB downloaded"
     ]
    },
    {
     "name": "stderr",
     "output_type": "stream",
     "text": [
      "IOPub message rate exceeded.\n",
      "The notebook server will temporarily stop sending output\n",
      "to the client in order to avoid crashing it.\n",
      "To change this limit, set the config variable\n",
      "`--NotebookApp.iopub_msg_rate_limit`.\n",
      "\n",
      "Current values:\n",
      "NotebookApp.iopub_msg_rate_limit=1000.0 (msgs/sec)\n",
      "NotebookApp.rate_limit_window=3.0 (secs)\n",
      "\n"
     ]
    },
    {
     "name": "stdout",
     "output_type": "stream",
     "text": [
      "[==================================================] 100.0% 958.5/958.4MB downloaded\n"
     ]
    }
   ],
   "source": [
    "wiki_fast_vectors = gensim.downloader.load('fasttext-wiki-news-subwords-300')"
   ]
  },
  {
   "cell_type": "code",
   "execution_count": 7,
   "id": "dutch-timer",
   "metadata": {
    "scrolled": true
   },
   "outputs": [
    {
     "data": {
      "text/plain": [
       "[('cars', 0.7827162146568298),\n",
       " ('vehicle', 0.7655367851257324),\n",
       " ('truck', 0.7350621223449707),\n",
       " ('driver', 0.7114784717559814),\n",
       " ('driving', 0.6442225575447083),\n",
       " ('vehicles', 0.6328004598617554),\n",
       " ('motorcycle', 0.6022512912750244),\n",
       " ('automobile', 0.5955728888511658),\n",
       " ('parked', 0.5910030007362366),\n",
       " ('drivers', 0.5778359770774841),\n",
       " ('suv', 0.5739067196846008),\n",
       " ('bus', 0.5653250217437744),\n",
       " ('mercedes', 0.5586283802986145),\n",
       " ('auto', 0.5572720170021057),\n",
       " ('drove', 0.5511451959609985),\n",
       " ('taxi', 0.54271000623703),\n",
       " ('jeep', 0.5364665985107422),\n",
       " ('garage', 0.5356014966964722),\n",
       " ('motorbike', 0.5267342925071716),\n",
       " ('dealership', 0.5221573710441589),\n",
       " ('drive', 0.5161600708961487),\n",
       " ('motor', 0.5121363997459412),\n",
       " ('passenger', 0.5100870132446289),\n",
       " ('wheel', 0.5081984400749207),\n",
       " ('bomb', 0.5025156140327454),\n",
       " ('minivan', 0.5014119744300842),\n",
       " ('bicycle', 0.49795132875442505),\n",
       " ('bmw', 0.49711090326309204),\n",
       " ('sedan', 0.49698883295059204),\n",
       " ('accident', 0.4938063621520996),\n",
       " ('ford', 0.48726072907447815),\n",
       " ('engine', 0.484244167804718),\n",
       " ('toyota', 0.4840026795864105),\n",
       " ('pickup', 0.4829619526863098),\n",
       " ('racing', 0.48164641857147217),\n",
       " ('trucks', 0.4778842329978943),\n",
       " ('driven', 0.47749751806259155),\n",
       " ('crash', 0.47625717520713806),\n",
       " ('speeding', 0.47495895624160767),\n",
       " ('luxury', 0.4720715284347534),\n",
       " ('train', 0.4673363268375397),\n",
       " ('bike', 0.4672122001647949),\n",
       " ('motorcycles', 0.4666198790073395),\n",
       " ('chevrolet', 0.4615119993686676),\n",
       " ('exploded', 0.4596773087978363),\n",
       " ('cab', 0.4595547616481781),\n",
       " ('parking', 0.4584250748157501),\n",
       " ('tire', 0.45205944776535034),\n",
       " ('door', 0.4486752450466156),\n",
       " ('explosives', 0.4411736726760864),\n",
       " ('roadside', 0.44024035334587097),\n",
       " ('automobiles', 0.43882620334625244),\n",
       " ('cart', 0.4378718435764313),\n",
       " ('tractor', 0.437203586101532),\n",
       " ('chassis', 0.4352104663848877),\n",
       " ('detonated', 0.4338803291320801),\n",
       " ('drives', 0.43238991498947144),\n",
       " ('airplane', 0.43213123083114624),\n",
       " ('when', 0.4307475686073303),\n",
       " ('outside', 0.4302654266357422),\n",
       " ('trailer', 0.4295749068260193),\n",
       " ('engines', 0.42922332882881165),\n",
       " ('minibus', 0.4281797409057617),\n",
       " ('front', 0.4278887212276459),\n",
       " ('crashed', 0.42531123757362366),\n",
       " ('blast', 0.42513811588287354),\n",
       " ('shop', 0.4245418608188629),\n",
       " ('killed', 0.4240442216396332),\n",
       " ('saw', 0.4236524701118469),\n",
       " ('nascar', 0.4230784475803375),\n",
       " ('crashes', 0.42108091711997986),\n",
       " ('suicide', 0.4206679165363312),\n",
       " ('pulled', 0.41959521174430847),\n",
       " ('factory', 0.4191330671310425),\n",
       " ('ride', 0.41763296723365784),\n",
       " ('same', 0.4173881411552429),\n",
       " ('volkswagen', 0.41737812757492065),\n",
       " ('suvs', 0.41590964794158936),\n",
       " ('apparently', 0.4146043658256531),\n",
       " ('limousine', 0.41456443071365356),\n",
       " ('buses', 0.4144038259983063),\n",
       " ('wagon', 0.41417571902275085),\n",
       " ('rental', 0.4137589633464813),\n",
       " ('ferrari', 0.4132353365421295),\n",
       " ('blew', 0.4126304090023041),\n",
       " ('another', 0.41183432936668396),\n",
       " ('one', 0.4110254943370819),\n",
       " ('tires', 0.41079771518707275),\n",
       " ('explosion', 0.4101596176624298),\n",
       " ('honda', 0.4098498821258545),\n",
       " ('cadillac', 0.4090065658092499),\n",
       " ('speed', 0.4089128077030182),\n",
       " ('porsche', 0.40835678577423096),\n",
       " ('dodge', 0.40798234939575195),\n",
       " ('getaway', 0.4071909189224243),\n",
       " ('audi', 0.4067717492580414),\n",
       " ('models', 0.40676575899124146),\n",
       " ('apartment', 0.4060212969779968),\n",
       " ('fuel', 0.4057706296443939),\n",
       " ('riding', 0.4052712023258209)]"
      ]
     },
     "execution_count": 7,
     "metadata": {},
     "output_type": "execute_result"
    }
   ],
   "source": [
    "wiki_glove_vectors.most_similar('car', topn=100)"
   ]
  },
  {
   "cell_type": "code",
   "execution_count": 8,
   "id": "civilian-permit",
   "metadata": {
    "scrolled": true
   },
   "outputs": [
    {
     "data": {
      "text/plain": [
       "[('cars', 0.7954094409942627),\n",
       " ('vehicle', 0.7870853543281555),\n",
       " ('non-car', 0.7824047803878784),\n",
       " ('automobile', 0.7790265679359436),\n",
       " ('super-car', 0.7759445905685425),\n",
       " ('mini-car', 0.7714369297027588),\n",
       " ('kit-car', 0.7592711448669434),\n",
       " ('side-car', 0.7582419514656067),\n",
       " ('motorcar', 0.7560692429542542),\n",
       " ('motor-car', 0.7491964101791382),\n",
       " ('autocar', 0.746731162071228),\n",
       " ('car-to-car', 0.7466916441917419),\n",
       " ('one-car', 0.7425135970115662),\n",
       " ('road-car', 0.7412860989570618),\n",
       " ('race-car', 0.7388101816177368),\n",
       " ('car-', 0.7351220846176147),\n",
       " ('racing-car', 0.7323705554008484),\n",
       " ('microcar', 0.7319932579994202),\n",
       " ('car-bike', 0.7307587265968323),\n",
       " ('truck', 0.729816198348999),\n",
       " ('rent-a-car', 0.7287375330924988),\n",
       " ('hire-car', 0.7287035584449768),\n",
       " ('K-car', 0.727432370185852),\n",
       " ('Z-car', 0.7254436016082764),\n",
       " ('25-car', 0.7249677777290344),\n",
       " ('minibike', 0.7108650207519531),\n",
       " ('multi-car', 0.7101672291755676),\n",
       " ('single-car', 0.7093476057052612),\n",
       " ('motor-bike', 0.7086487412452698),\n",
       " ('14-car', 0.708217203617096),\n",
       " ('sportscar', 0.70524662733078),\n",
       " ('stockcar', 0.7032690644264221),\n",
       " ('hypercar', 0.7022234201431274),\n",
       " ('car-seat', 0.702216625213623),\n",
       " ('sports-car', 0.7015657424926758),\n",
       " ('quadbike', 0.7014856338500977),\n",
       " ('car-building', 0.701330304145813),\n",
       " ('motorcyle', 0.6992741227149963),\n",
       " ('taxi-cab', 0.6982335448265076),\n",
       " ('quad-bike', 0.6969521641731262),\n",
       " ('minicar', 0.6967118382453918),\n",
       " ('e-car', 0.6939603686332703),\n",
       " ('15-car', 0.6937643885612488),\n",
       " ('handcar', 0.6928603053092957),\n",
       " ('cars-', 0.6927830576896667),\n",
       " ('car-like', 0.6920099854469299),\n",
       " ('stock-car', 0.690933108329773),\n",
       " ('car-wash', 0.6908111572265625),\n",
       " ('mini-van', 0.6885236501693726),\n",
       " ('20-car', 0.6881084442138672),\n",
       " ('passenger-car', 0.6880013346672058),\n",
       " ('multiple-car', 0.6867129802703857),\n",
       " ('green-car', 0.6862947344779968),\n",
       " ('garage', 0.6862614750862122),\n",
       " ('eco-car', 0.6858252286911011),\n",
       " ('driver-side', 0.6854537129402161),\n",
       " ('30-car', 0.6852847337722778),\n",
       " ('car-hire', 0.685165524482727),\n",
       " ('driver', 0.6851025223731995),\n",
       " ('camry', 0.6848661303520203),\n",
       " ('racecar', 0.6848469972610474),\n",
       " ('wheel-drive', 0.6840973496437073),\n",
       " ('seven-car', 0.6838706135749817),\n",
       " ('rail-car', 0.6833746433258057),\n",
       " ('rental-car', 0.6832196116447449),\n",
       " ('cab-over', 0.6826061606407166),\n",
       " ('motorbike', 0.6811319589614868),\n",
       " ('double-cab', 0.6801020503044128),\n",
       " ('drive-away', 0.6793620586395264),\n",
       " ('tramcar', 0.6793262362480164),\n",
       " ('car-boot', 0.6793233156204224),\n",
       " ('driver-less', 0.6789811253547668),\n",
       " ('mini-cars', 0.6784089207649231),\n",
       " ('five-car', 0.6762014627456665),\n",
       " ('voiture', 0.6758021712303162),\n",
       " ('safety-car', 0.6757950186729431),\n",
       " ('mini-bus', 0.6757816672325134),\n",
       " ('car-racing', 0.6756130456924438),\n",
       " ('street-car', 0.6754381656646729),\n",
       " ('motocycle', 0.6753268837928772),\n",
       " ('vehicles', 0.674894392490387),\n",
       " ('drive-train', 0.6748378276824951),\n",
       " ('car-less', 0.6732245683670044),\n",
       " ('small-car', 0.672714352607727),\n",
       " ('towbar', 0.6724399328231812),\n",
       " ('multicar', 0.6721072793006897),\n",
       " ('acar', 0.6720404028892517),\n",
       " ('motor-vehicle', 0.6720158457756042),\n",
       " ('classic-car', 0.6717149019241333),\n",
       " ('car-based', 0.6716802716255188),\n",
       " ('car-park', 0.6715514063835144),\n",
       " ('mini-cab', 0.6703146696090698),\n",
       " ('used-car', 0.6701732277870178),\n",
       " ('car-share', 0.6701278686523438),\n",
       " ('muscle-car', 0.6700358390808105),\n",
       " ('car-pool', 0.6700040102005005),\n",
       " ('SUV', 0.6695265769958496),\n",
       " ('collector-car', 0.6695261001586914),\n",
       " ('50-car', 0.6692941188812256),\n",
       " ('mondeo', 0.6692538857460022)]"
      ]
     },
     "execution_count": 8,
     "metadata": {},
     "output_type": "execute_result"
    }
   ],
   "source": [
    "wiki_fast_vectors.most_similar('car', topn=100)"
   ]
  },
  {
   "cell_type": "code",
   "execution_count": 9,
   "id": "boring-strengthening",
   "metadata": {
    "scrolled": true
   },
   "outputs": [
    {
     "data": {
      "text/plain": [
       "[('vehicle', 0.7821095585823059),\n",
       " ('cars', 0.7423830032348633),\n",
       " ('SUV', 0.7160962224006653),\n",
       " ('minivan', 0.6907036304473877),\n",
       " ('truck', 0.6735789775848389),\n",
       " ('Car', 0.6677609086036682),\n",
       " ('Ford_Focus', 0.6673202514648438),\n",
       " ('Honda_Civic', 0.6626849174499512),\n",
       " ('Jeep', 0.6511331796646118),\n",
       " ('pickup_truck', 0.6441437602043152),\n",
       " ('Toyota_Camry', 0.6395173668861389),\n",
       " ('scooter', 0.638153076171875),\n",
       " ('Honda_Accord', 0.6343971490859985),\n",
       " ('sedan', 0.6336701512336731),\n",
       " ('Toyota_Corolla', 0.6304991841316223),\n",
       " ('motorcycle', 0.6256055235862732),\n",
       " ('Nissan_Altima', 0.6253109574317932),\n",
       " ('Ford_Explorer', 0.6211567521095276),\n",
       " ('Ford_Escort', 0.6211459040641785),\n",
       " ('Ford_Mustang', 0.6198909878730774),\n",
       " ('Ford_Taurus', 0.6197748184204102),\n",
       " ('Chevy_Impala', 0.6176559925079346),\n",
       " ('Toyota_Celica', 0.613082766532898),\n",
       " ('Geo_Prizm', 0.611987829208374),\n",
       " ('van', 0.6115673780441284),\n",
       " ('vehcile', 0.6105373501777649),\n",
       " ('Corvette', 0.6078192591667175),\n",
       " ('Chrysler_LeBaron', 0.6071134209632874),\n",
       " ('Mercedes', 0.6063582301139832),\n",
       " ('suv', 0.6054362654685974),\n",
       " ('PT_Cruiser', 0.6049167513847351),\n",
       " ('Ford_Fiesta', 0.6047167181968689),\n",
       " ('Mitsubishi_Eclipse', 0.6043581366539001),\n",
       " ('vechile', 0.6036463379859924),\n",
       " ('Honda_CRX', 0.6008883714675903),\n",
       " ('Volkswagen_Passat', 0.6005231738090515),\n",
       " ('vehicles', 0.5998871326446533),\n",
       " ('Chevy_Malibu', 0.59982830286026),\n",
       " ('Ford_Aerostar', 0.598214328289032),\n",
       " ('station_wagon', 0.5979543924331665),\n",
       " ('minvan', 0.5951550006866455),\n",
       " ('Chevy_Trailblazer', 0.5942257642745972),\n",
       " ('Volkswagen_Jetta', 0.5939006805419922),\n",
       " ('Hyundai_Tiburon', 0.5931066870689392),\n",
       " ('Chevy_Avalanche', 0.5930271744728088),\n",
       " ('Vauxhall_Zafira', 0.5930134654045105),\n",
       " ('Mazda_Familia', 0.5930048227310181),\n",
       " ('motorbike', 0.5921168923377991),\n",
       " ('Ford_Festiva', 0.5908814072608948),\n",
       " ('Camaro', 0.5906863212585449),\n",
       " ('Honda_Odyssey_minivan', 0.5905517339706421),\n",
       " ('Ford_Tempo', 0.5880202054977417),\n",
       " ('Honda_Prelude', 0.5876764059066772),\n",
       " ('Scion_TC', 0.5875760316848755),\n",
       " ('Mercedes_SL##', 0.5868631601333618),\n",
       " ('Chevrolet_Impala', 0.5867254137992859),\n",
       " ('Nissan_###SX', 0.5867167711257935),\n",
       " ('Saturn_SL2', 0.5855883955955505),\n",
       " ('bike', 0.5854154229164124),\n",
       " ('Jeep_Cherokee', 0.5850502848625183),\n",
       " ('Suzuki_Vitara', 0.5849933624267578),\n",
       " ('Jaguar_XJ6', 0.5848735570907593),\n",
       " ('automobile', 0.5838367938995361),\n",
       " ('Pontiac_Grand_Prix', 0.5837562680244446),\n",
       " ('Ford_Expedition', 0.5835252404212952),\n",
       " ('Honda_CRV', 0.5816584229469299),\n",
       " ('Ford_Thunderbird', 0.5809966921806335),\n",
       " ('BMW', 0.5806987285614014),\n",
       " ('vehilce', 0.5803825259208679),\n",
       " ('Audi_A4', 0.5793707966804504),\n",
       " ('Dodge_Ram_pickup_truck', 0.5793174505233765),\n",
       " ('Pontiac_Sunbird', 0.5783280730247498),\n",
       " ('Seat_Ibiza', 0.5780059099197388),\n",
       " ('driver', 0.5779394507408142),\n",
       " ('Range_Rover', 0.5773751735687256),\n",
       " ('Dodge_Neon', 0.5772683024406433),\n",
       " ('Volkswagen_Golf', 0.5771291255950928),\n",
       " ('Buick_Regal', 0.5757145881652832),\n",
       " ('VW_Golf', 0.5754653811454773),\n",
       " ('Mercedes_C###', 0.5750431418418884),\n",
       " ('VW_Jetta', 0.5746937394142151),\n",
       " ('Renault_Megane', 0.574485719203949),\n",
       " ('Mercedes_SLK', 0.5738810896873474),\n",
       " ('Hyundai_Excel', 0.5737040638923645),\n",
       " ('Volkswagen_Beetle', 0.5730616450309753),\n",
       " ('Honda_Del_Sol', 0.5728261470794678),\n",
       " ('Dodge_Durango', 0.5728071928024292),\n",
       " ('Mitsubishi_Lancer', 0.5725657343864441),\n",
       " ('Smartcar', 0.5723721981048584),\n",
       " ('Buick_LaSabre', 0.5723085403442383),\n",
       " ('Volkswagen_Cabrio', 0.5720491409301758),\n",
       " ('Kia_Sportage', 0.5719508528709412),\n",
       " ('Chevy_Cavalier', 0.5717567205429077),\n",
       " ('Geo_Tracker', 0.5715962052345276),\n",
       " ('Citroen_Xantia', 0.5712751150131226),\n",
       " ('VW_Touran', 0.5712699294090271),\n",
       " ('Chrysler_Sebring_convertible', 0.570864200592041),\n",
       " ('Chevrolet', 0.5706323981285095),\n",
       " ('Toyota_Tundra_pickup_truck', 0.5704087615013123),\n",
       " ('motorycle', 0.5695196986198425)]"
      ]
     },
     "execution_count": 9,
     "metadata": {},
     "output_type": "execute_result"
    }
   ],
   "source": [
    "google_vectors.most_similar('car', topn=100)"
   ]
  },
  {
   "cell_type": "code",
   "execution_count": 11,
   "id": "monthly-worth",
   "metadata": {},
   "outputs": [
    {
     "data": {
      "text/plain": [
       "[('truck', 0.7657956480979919),\n",
       " ('cars', 0.7584866881370544),\n",
       " ('driving', 0.7157720923423767),\n",
       " ('drive', 0.6923045516014099),\n",
       " ('front', 0.6751191020011902),\n",
       " ('vehicle', 0.6674408912658691),\n",
       " ('bus', 0.6626533269882202),\n",
       " ('bike', 0.655992329120636),\n",
       " ('cause', 0.6432175636291504),\n",
       " ('house', 0.6365077495574951),\n",
       " ('dad', 0.6365053653717041),\n",
       " ('driver', 0.6281499862670898),\n",
       " ('garage', 0.6269806623458862),\n",
       " ('home', 0.6254670023918152),\n",
       " ('while', 0.6143317222595215),\n",
       " ('my', 0.6128328442573547),\n",
       " ('when', 0.6126890778541565),\n",
       " ('on', 0.6124566197395325),\n",
       " ('but', 0.6119762063026428),\n",
       " ('ride', 0.6102787256240845),\n",
       " ('ca', 0.6102496385574341),\n",
       " ('place', 0.6092216372489929),\n",
       " ('window', 0.6079645156860352),\n",
       " ('drove', 0.6077955365180969),\n",
       " ('motorcycle', 0.6041215062141418),\n",
       " ('road', 0.6008087396621704),\n",
       " ('parking', 0.5986971259117126),\n",
       " ('that', 0.5977287888526917),\n",
       " ('crash', 0.5960888266563416),\n",
       " ('mom', 0.5949191451072693),\n",
       " ('seat', 0.5947927236557007),\n",
       " ('accident', 0.5926772356033325),\n",
       " ('charger', 0.5915985107421875),\n",
       " ('out', 0.590791642665863),\n",
       " ('get', 0.5898933410644531),\n",
       " ('there', 0.5896499752998352),\n",
       " ('way', 0.5876054763793945),\n",
       " ('phone', 0.5864412188529968),\n",
       " ('after', 0.5860815048217773),\n",
       " ('got', 0.5856860280036926),\n",
       " ('put', 0.5855829119682312),\n",
       " ('near', 0.5850653648376465),\n",
       " ('right', 0.5822612047195435),\n",
       " ('used', 0.5806090831756592),\n",
       " ('room', 0.5786322951316833),\n",
       " ('just', 0.578553318977356),\n",
       " ('train', 0.5783687829971313),\n",
       " ('parents', 0.5781645178794861),\n",
       " ('getting', 0.5780051350593567),\n",
       " ('today', 0.577820360660553),\n",
       " ('this', 0.5774274468421936),\n",
       " ('up', 0.5770480036735535),\n",
       " ('almost', 0.5766910910606384),\n",
       " ('off', 0.5766378045082092),\n",
       " ('it', 0.5766174793243408),\n",
       " ('before', 0.5754227042198181),\n",
       " ('came', 0.5749533176422119),\n",
       " ('then', 0.5727429986000061),\n",
       " ('and', 0.5726915001869202),\n",
       " ('like', 0.5725385546684265),\n",
       " ('damn', 0.5722082853317261),\n",
       " (\"n't\", 0.5718876719474792),\n",
       " ('because', 0.571122407913208),\n",
       " ('cab', 0.5683106780052185),\n",
       " ('service', 0.5677849054336548),\n",
       " ('left', 0.5675035715103149),\n",
       " ('work', 0.5672438144683838),\n",
       " ('bad', 0.5669849514961243),\n",
       " ('route', 0.5669592022895813),\n",
       " ('riding', 0.5664692521095276),\n",
       " ('guy', 0.5662630796432495),\n",
       " ('race', 0.5661792159080505),\n",
       " ('going', 0.5660711526870728),\n",
       " ('plane', 0.5657764673233032),\n",
       " ('around', 0.5655597448348999),\n",
       " ('cool', 0.5651842951774597),\n",
       " ('down', 0.5646587014198303),\n",
       " ('back', 0.5643916726112366),\n",
       " ('hit', 0.5642670392990112),\n",
       " ('or', 0.5641672015190125),\n",
       " ('the', 0.5640942454338074),\n",
       " ('where', 0.5640424489974976),\n",
       " ('shit', 0.5635854601860046),\n",
       " ('bmw', 0.5633173584938049),\n",
       " ('sure', 0.5628119707107544),\n",
       " ('plus', 0.5626364350318909),\n",
       " ('take', 0.5625901222229004),\n",
       " ('could', 0.5622032284736633),\n",
       " ('first', 0.5618430376052856),\n",
       " ('dads', 0.5615667700767517),\n",
       " ('with', 0.561393678188324),\n",
       " ('thing', 0.5611565113067627),\n",
       " ('next', 0.5601372122764587),\n",
       " ('long', 0.5600332021713257),\n",
       " ('outside', 0.5599793791770935),\n",
       " ('dont', 0.5594855546951294),\n",
       " ('stuck', 0.5585728287696838),\n",
       " ('cop', 0.5581687688827515),\n",
       " ('drives', 0.5574604272842407),\n",
       " ('into', 0.5572453141212463)]"
      ]
     },
     "execution_count": 11,
     "metadata": {},
     "output_type": "execute_result"
    }
   ],
   "source": [
    "tw_vectors.most_similar('car', topn=100)"
   ]
  },
  {
   "cell_type": "code",
   "execution_count": null,
   "id": "modular-therapy",
   "metadata": {},
   "outputs": [],
   "source": []
  }
 ],
 "metadata": {
  "kernelspec": {
   "display_name": "Python 3",
   "language": "python",
   "name": "python3"
  },
  "language_info": {
   "codemirror_mode": {
    "name": "ipython",
    "version": 3
   },
   "file_extension": ".py",
   "mimetype": "text/x-python",
   "name": "python",
   "nbconvert_exporter": "python",
   "pygments_lexer": "ipython3",
   "version": "3.7.6"
  }
 },
 "nbformat": 4,
 "nbformat_minor": 5
}
